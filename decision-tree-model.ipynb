{
 "cells": [
  {
   "cell_type": "code",
   "execution_count": 1,
   "id": "6f627867",
   "metadata": {},
   "outputs": [
    {
     "name": "stdout",
     "output_type": "stream",
     "text": [
      "running\n",
      "done\n"
     ]
    }
   ],
   "source": [
    "import numpy as np\n",
    "import pandas as pd\n",
    "from sklearn.model_selection import train_test_split\n",
    "from sklearn.tree import DecisionTreeClassifier\n",
    "from sklearn.tree import DecisionTreeRegressor\n",
    "from sklearn.metrics import accuracy_score\n",
    "from sklearn import tree\n",
    "from sklearn.ensemble import RandomForestClassifier\n",
    "from sklearn.datasets import make_classification\n",
    "from sklearn.metrics import mean_squared_error as MSE\n",
    "from sklearn.metrics import mean_absolute_error\n",
    "\n",
    "print('running')\n",
    "fullFileName = 'C:/Users/jad23/Documents/UNC-School/Senior-Spring/ML/socal-data.csv'\n",
    "fileNameaux = \"C:/Users/jad23/Documents/UNC-School/Senior-Spring/ML/socal_data_bruh.csv\"\n",
    "data=pd.read_csv(fullFileName, sep=',', header=0)\n",
    "bruh_data = pd.read_csv(fileNameaux, sep=',', header=0)\n",
    "print('done')"
   ]
  },
  {
   "cell_type": "code",
   "execution_count": 2,
   "id": "6cbca9d4",
   "metadata": {},
   "outputs": [
    {
     "name": "stdout",
     "output_type": "stream",
     "text": [
      "Dataset Length:  15474\n",
      "Dataset shape:  (15474, 9)\n"
     ]
    }
   ],
   "source": [
    "print(\"Dataset Length: \", len(data))\n",
    "print(\"Dataset shape: \" , data.shape)"
   ]
  },
  {
   "cell_type": "code",
   "execution_count": 3,
   "id": "e6f4448f",
   "metadata": {},
   "outputs": [
    {
     "name": "stdout",
     "output_type": "stream",
     "text": [
      "dataset:\n"
     ]
    },
    {
     "data": {
      "text/html": [
       "<div>\n",
       "<style scoped>\n",
       "    .dataframe tbody tr th:only-of-type {\n",
       "        vertical-align: middle;\n",
       "    }\n",
       "\n",
       "    .dataframe tbody tr th {\n",
       "        vertical-align: top;\n",
       "    }\n",
       "\n",
       "    .dataframe thead th {\n",
       "        text-align: right;\n",
       "    }\n",
       "</style>\n",
       "<table border=\"1\" class=\"dataframe\">\n",
       "  <thead>\n",
       "    <tr style=\"text-align: right;\">\n",
       "      <th></th>\n",
       "      <th>image_id</th>\n",
       "      <th>street</th>\n",
       "      <th>citi</th>\n",
       "      <th>city_id</th>\n",
       "      <th>bed</th>\n",
       "      <th>bath</th>\n",
       "      <th>sqft</th>\n",
       "      <th>price</th>\n",
       "      <th>1M+?</th>\n",
       "    </tr>\n",
       "  </thead>\n",
       "  <tbody>\n",
       "    <tr>\n",
       "      <th>0</th>\n",
       "      <td>0</td>\n",
       "      <td>1317 Van Buren Avenue</td>\n",
       "      <td>Salton City, CA</td>\n",
       "      <td>1</td>\n",
       "      <td>3</td>\n",
       "      <td>2.0</td>\n",
       "      <td>1560</td>\n",
       "      <td>201900</td>\n",
       "      <td>NO</td>\n",
       "    </tr>\n",
       "    <tr>\n",
       "      <th>1</th>\n",
       "      <td>1</td>\n",
       "      <td>124 C Street W</td>\n",
       "      <td>Brawley, CA</td>\n",
       "      <td>2</td>\n",
       "      <td>3</td>\n",
       "      <td>2.0</td>\n",
       "      <td>713</td>\n",
       "      <td>228500</td>\n",
       "      <td>NO</td>\n",
       "    </tr>\n",
       "    <tr>\n",
       "      <th>2</th>\n",
       "      <td>2</td>\n",
       "      <td>2304 Clark Road</td>\n",
       "      <td>Imperial, CA</td>\n",
       "      <td>3</td>\n",
       "      <td>3</td>\n",
       "      <td>1.0</td>\n",
       "      <td>800</td>\n",
       "      <td>273950</td>\n",
       "      <td>NO</td>\n",
       "    </tr>\n",
       "    <tr>\n",
       "      <th>3</th>\n",
       "      <td>3</td>\n",
       "      <td>755 Brawley Avenue</td>\n",
       "      <td>Brawley, CA</td>\n",
       "      <td>2</td>\n",
       "      <td>3</td>\n",
       "      <td>1.0</td>\n",
       "      <td>1082</td>\n",
       "      <td>350000</td>\n",
       "      <td>NO</td>\n",
       "    </tr>\n",
       "    <tr>\n",
       "      <th>4</th>\n",
       "      <td>4</td>\n",
       "      <td>2207 R Carrillo Court</td>\n",
       "      <td>Calexico, CA</td>\n",
       "      <td>4</td>\n",
       "      <td>4</td>\n",
       "      <td>3.0</td>\n",
       "      <td>2547</td>\n",
       "      <td>385100</td>\n",
       "      <td>NO</td>\n",
       "    </tr>\n",
       "  </tbody>\n",
       "</table>\n",
       "</div>"
      ],
      "text/plain": [
       "   image_id                 street             citi  city_id  bed  bath  sqft  \\\n",
       "0         0  1317 Van Buren Avenue  Salton City, CA        1    3   2.0  1560   \n",
       "1         1         124 C Street W      Brawley, CA        2    3   2.0   713   \n",
       "2         2        2304 Clark Road     Imperial, CA        3    3   1.0   800   \n",
       "3         3     755 Brawley Avenue      Brawley, CA        2    3   1.0  1082   \n",
       "4         4  2207 R Carrillo Court     Calexico, CA        4    4   3.0  2547   \n",
       "\n",
       "    price 1M+?  \n",
       "0  201900   NO  \n",
       "1  228500   NO  \n",
       "2  273950   NO  \n",
       "3  350000   NO  \n",
       "4  385100   NO  "
      ]
     },
     "execution_count": 3,
     "metadata": {},
     "output_type": "execute_result"
    }
   ],
   "source": [
    "print('dataset:')\n",
    "data.head()"
   ]
  },
  {
   "cell_type": "code",
   "execution_count": 8,
   "id": "c047e7e9",
   "metadata": {},
   "outputs": [
    {
     "name": "stdout",
     "output_type": "stream",
     "text": [
      "running\n",
      "X_train : (12379, 3)\n",
      "Y_train : (12379,)\n",
      "X_test : (3095, 3)\n",
      "Y_test : (3095,)\n",
      "done\n"
     ]
    }
   ],
   "source": [
    "print('running')\n",
    "#city_id,bed,bath,sqft\n",
    "X = data.values[:,3:6]\n",
    "# data of columns 8(yes/no)\n",
    "Y = data.values[:, 8]\n",
    "X_train, X_test, Y_train, Y_test = train_test_split(X, Y, test_size = 0.2, random_state=101)\n",
    "tree= DecisionTreeClassifier(criterion = \"entropy\", random_state = 100, max_depth = 8, min_samples_leaf = 6)\n",
    "\n",
    "tree.fit(X_train, Y_train)\n",
    "print(f'X_train : {X_train.shape}')\n",
    "print(f'Y_train : {Y_train.shape}')\n",
    "print(f'X_test : {X_test.shape}')\n",
    "print(f'Y_test : {Y_test.shape}')\n",
    "print('done')"
   ]
  },
  {
   "cell_type": "code",
   "execution_count": 9,
   "id": "685efd4e",
   "metadata": {},
   "outputs": [
    {
     "name": "stdout",
     "output_type": "stream",
     "text": [
      "['NO' 'NO' 'NO' ... 'NO' 'NO' 'NO']\n"
     ]
    }
   ],
   "source": [
    "#predict if house is greater than 1M based on bed,bath,sqft, city_id\n",
    "y_pred= tree.predict(X_test)\n",
    "print(y_pred)"
   ]
  },
  {
   "cell_type": "code",
   "execution_count": 10,
   "id": "93e56bdc",
   "metadata": {},
   "outputs": [
    {
     "name": "stdout",
     "output_type": "stream",
     "text": [
      "Accuracy is:  89.66074313408724\n"
     ]
    }
   ],
   "source": [
    "print(\"Accuracy is: \" , accuracy_score(Y_test, y_pred)*100)"
   ]
  },
  {
   "cell_type": "code",
   "execution_count": 11,
   "id": "4f9b4af5",
   "metadata": {},
   "outputs": [
    {
     "name": "stdout",
     "output_type": "stream",
     "text": [
      "only change is change yes and no values in column 8 to 1 and 0 respectively\n",
      "dataset 2:\n"
     ]
    },
    {
     "data": {
      "text/html": [
       "<div>\n",
       "<style scoped>\n",
       "    .dataframe tbody tr th:only-of-type {\n",
       "        vertical-align: middle;\n",
       "    }\n",
       "\n",
       "    .dataframe tbody tr th {\n",
       "        vertical-align: top;\n",
       "    }\n",
       "\n",
       "    .dataframe thead th {\n",
       "        text-align: right;\n",
       "    }\n",
       "</style>\n",
       "<table border=\"1\" class=\"dataframe\">\n",
       "  <thead>\n",
       "    <tr style=\"text-align: right;\">\n",
       "      <th></th>\n",
       "      <th>image_id</th>\n",
       "      <th>street</th>\n",
       "      <th>citi</th>\n",
       "      <th>city_id</th>\n",
       "      <th>bed</th>\n",
       "      <th>bath</th>\n",
       "      <th>sqft</th>\n",
       "      <th>price</th>\n",
       "      <th>1M+?</th>\n",
       "    </tr>\n",
       "  </thead>\n",
       "  <tbody>\n",
       "    <tr>\n",
       "      <th>0</th>\n",
       "      <td>0</td>\n",
       "      <td>1317 Van Buren Avenue</td>\n",
       "      <td>Salton City, CA</td>\n",
       "      <td>1</td>\n",
       "      <td>3</td>\n",
       "      <td>2.0</td>\n",
       "      <td>1560</td>\n",
       "      <td>201900</td>\n",
       "      <td>0</td>\n",
       "    </tr>\n",
       "    <tr>\n",
       "      <th>1</th>\n",
       "      <td>1</td>\n",
       "      <td>124 C Street W</td>\n",
       "      <td>Brawley, CA</td>\n",
       "      <td>2</td>\n",
       "      <td>3</td>\n",
       "      <td>2.0</td>\n",
       "      <td>713</td>\n",
       "      <td>228500</td>\n",
       "      <td>0</td>\n",
       "    </tr>\n",
       "    <tr>\n",
       "      <th>2</th>\n",
       "      <td>2</td>\n",
       "      <td>2304 Clark Road</td>\n",
       "      <td>Imperial, CA</td>\n",
       "      <td>3</td>\n",
       "      <td>3</td>\n",
       "      <td>1.0</td>\n",
       "      <td>800</td>\n",
       "      <td>273950</td>\n",
       "      <td>0</td>\n",
       "    </tr>\n",
       "    <tr>\n",
       "      <th>3</th>\n",
       "      <td>3</td>\n",
       "      <td>755 Brawley Avenue</td>\n",
       "      <td>Brawley, CA</td>\n",
       "      <td>2</td>\n",
       "      <td>3</td>\n",
       "      <td>1.0</td>\n",
       "      <td>1082</td>\n",
       "      <td>350000</td>\n",
       "      <td>0</td>\n",
       "    </tr>\n",
       "    <tr>\n",
       "      <th>4</th>\n",
       "      <td>4</td>\n",
       "      <td>2207 R Carrillo Court</td>\n",
       "      <td>Calexico, CA</td>\n",
       "      <td>4</td>\n",
       "      <td>4</td>\n",
       "      <td>3.0</td>\n",
       "      <td>2547</td>\n",
       "      <td>385100</td>\n",
       "      <td>0</td>\n",
       "    </tr>\n",
       "  </tbody>\n",
       "</table>\n",
       "</div>"
      ],
      "text/plain": [
       "   image_id                 street             citi  city_id  bed  bath  sqft  \\\n",
       "0         0  1317 Van Buren Avenue  Salton City, CA        1    3   2.0  1560   \n",
       "1         1         124 C Street W      Brawley, CA        2    3   2.0   713   \n",
       "2         2        2304 Clark Road     Imperial, CA        3    3   1.0   800   \n",
       "3         3     755 Brawley Avenue      Brawley, CA        2    3   1.0  1082   \n",
       "4         4  2207 R Carrillo Court     Calexico, CA        4    4   3.0  2547   \n",
       "\n",
       "    price  1M+?  \n",
       "0  201900     0  \n",
       "1  228500     0  \n",
       "2  273950     0  \n",
       "3  350000     0  \n",
       "4  385100     0  "
      ]
     },
     "execution_count": 11,
     "metadata": {},
     "output_type": "execute_result"
    }
   ],
   "source": [
    "print(\"only change is change yes and no values in column 8 to 1 and 0 respectively\")\n",
    "print('dataset 2:')\n",
    "bruh_data.head()"
   ]
  },
  {
   "cell_type": "code",
   "execution_count": 12,
   "id": "59fd187b",
   "metadata": {},
   "outputs": [
    {
     "name": "stdout",
     "output_type": "stream",
     "text": [
      "running\n",
      "done\n"
     ]
    }
   ],
   "source": [
    "print('running')\n",
    "#city_id,bed,bath,sqft\n",
    "X_b = bruh_data.values[:,3:6]\n",
    "# data of columns 8(yes/no)\n",
    "Y_b = bruh_data.values[:, 8]\n",
    "\n",
    "X_train_b, X_test_b, Y_train_b, Y_test_b = train_test_split(X_b, Y_b, test_size = 0.2, random_state=101)\n",
    "dt = DecisionTreeRegressor(max_depth=8, min_samples_leaf=6, random_state=3)\n",
    "dt.fit(X_train_b, Y_train_b)\n",
    "print('done')"
   ]
  },
  {
   "cell_type": "code",
   "execution_count": 13,
   "id": "118a3d07",
   "metadata": {},
   "outputs": [
    {
     "name": "stdout",
     "output_type": "stream",
     "text": [
      "Mean Square Error: 0.08301018489142317\n",
      "Root Mean Square Error: 0.2881148814126462\n"
     ]
    }
   ],
   "source": [
    "##decision tree regression\n",
    "y_pred_dt = dt.predict(X_test_b)\n",
    "mse_dt = MSE(Y_test_b, y_pred_dt)\n",
    "print(\"Mean Square Error:\",mse_dt)\n",
    "rmse_dt= mse_dt**(1/2)\n",
    "print(\"Root Mean Square Error:\", rmse_dt)"
   ]
  },
  {
   "cell_type": "code",
   "execution_count": 14,
   "id": "1c1c5bcd",
   "metadata": {
    "scrolled": true
   },
   "outputs": [
    {
     "name": "stdout",
     "output_type": "stream",
     "text": [
      "Trainer Accuracy-: 0.944\n",
      "Tester Accuracy-: 0.894\n"
     ]
    }
   ],
   
  }
 ],
 "metadata": {
  "kernelspec": {
   "display_name": "Python 3",
   "language": "python",
   "name": "python3"
  },
  "language_info": {
   "codemirror_mode": {
    "name": "ipython",
    "version": 3
   },
   "file_extension": ".py",
   "mimetype": "text/x-python",
   "name": "python",
   "nbconvert_exporter": "python",
   "pygments_lexer": "ipython3",
   "version": "3.9.12"
  }
 },
 "nbformat": 4,
 "nbformat_minor": 5
}
