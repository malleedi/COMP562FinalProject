{
  "cells": [
    {
      "cell_type": "markdown",
      "metadata": {
        "id": "view-in-github",
        "colab_type": "text"
      },
      "source": [
        "<a href=\"https://colab.research.google.com/github/malleedi/COMP562FinalProject/blob/main/LR_with_Geopy_Point_Data.ipynb\" target=\"_parent\"><img src=\"https://colab.research.google.com/assets/colab-badge.svg\" alt=\"Open In Colab\"/></a>"
      ]
    },
    {
      "cell_type": "markdown",
      "source": [
        "Import Statements"
      ],
      "metadata": {
        "id": "mYGvkOO25n7A"
      },
      "id": "mYGvkOO25n7A"
    },
    {
      "cell_type": "code",
      "execution_count": 1,
      "id": "a0dd2a39",
      "metadata": {
        "id": "a0dd2a39"
      },
      "outputs": [],
      "source": [
        "import numpy as np\n",
        "\n",
        "import pandas as pd\n",
        "\n",
        "import seaborn as sns\n",
        "\n",
        "import matplotlib.pyplot as plt\n",
        "\n",
        "from sklearn import preprocessing, svm, metrics\n",
        "\n",
        "from sklearn.model_selection import train_test_split\n",
        "\n",
        "from sklearn.linear_model import LinearRegression"
      ]
    },
    {
      "cell_type": "markdown",
      "source": [
        "Load Data"
      ],
      "metadata": {
        "id": "kcDm0r555uaN"
      },
      "id": "kcDm0r555uaN"
    },
    {
      "cell_type": "code",
      "execution_count": 10,
      "id": "f188eeca",
      "metadata": {
        "scrolled": true,
        "colab": {
          "base_uri": "https://localhost:8080/",
          "height": 206
        },
        "id": "f188eeca",
        "outputId": "da09ede8-4589-49e6-c6d6-fdbaeeb7eff9"
      },
      "outputs": [
        {
          "output_type": "execute_result",
          "data": {
            "text/plain": [
              "   image_id                 street             citi  n_citi  bed  bath  sqft  \\\n",
              "0         0  1317 Van Buren Avenue  Salton City, CA     317    3   2.0  1560   \n",
              "1         1         124 C Street W      Brawley, CA      48    3   2.0   713   \n",
              "2         2        2304 Clark Road     Imperial, CA     152    3   1.0   800   \n",
              "3         3     755 Brawley Avenue      Brawley, CA      48    3   1.0  1082   \n",
              "4         4  2207 R Carrillo Court     Calexico, CA      55    4   3.0  2547   \n",
              "\n",
              "    price  \n",
              "0  201900  \n",
              "1  228500  \n",
              "2  273950  \n",
              "3  350000  \n",
              "4  385100  "
            ],
            "text/html": [
              "\n",
              "  <div id=\"df-17d1618d-523c-464d-8a53-431cf3fb25b0\">\n",
              "    <div class=\"colab-df-container\">\n",
              "      <div>\n",
              "<style scoped>\n",
              "    .dataframe tbody tr th:only-of-type {\n",
              "        vertical-align: middle;\n",
              "    }\n",
              "\n",
              "    .dataframe tbody tr th {\n",
              "        vertical-align: top;\n",
              "    }\n",
              "\n",
              "    .dataframe thead th {\n",
              "        text-align: right;\n",
              "    }\n",
              "</style>\n",
              "<table border=\"1\" class=\"dataframe\">\n",
              "  <thead>\n",
              "    <tr style=\"text-align: right;\">\n",
              "      <th></th>\n",
              "      <th>image_id</th>\n",
              "      <th>street</th>\n",
              "      <th>citi</th>\n",
              "      <th>n_citi</th>\n",
              "      <th>bed</th>\n",
              "      <th>bath</th>\n",
              "      <th>sqft</th>\n",
              "      <th>price</th>\n",
              "    </tr>\n",
              "  </thead>\n",
              "  <tbody>\n",
              "    <tr>\n",
              "      <th>0</th>\n",
              "      <td>0</td>\n",
              "      <td>1317 Van Buren Avenue</td>\n",
              "      <td>Salton City, CA</td>\n",
              "      <td>317</td>\n",
              "      <td>3</td>\n",
              "      <td>2.0</td>\n",
              "      <td>1560</td>\n",
              "      <td>201900</td>\n",
              "    </tr>\n",
              "    <tr>\n",
              "      <th>1</th>\n",
              "      <td>1</td>\n",
              "      <td>124 C Street W</td>\n",
              "      <td>Brawley, CA</td>\n",
              "      <td>48</td>\n",
              "      <td>3</td>\n",
              "      <td>2.0</td>\n",
              "      <td>713</td>\n",
              "      <td>228500</td>\n",
              "    </tr>\n",
              "    <tr>\n",
              "      <th>2</th>\n",
              "      <td>2</td>\n",
              "      <td>2304 Clark Road</td>\n",
              "      <td>Imperial, CA</td>\n",
              "      <td>152</td>\n",
              "      <td>3</td>\n",
              "      <td>1.0</td>\n",
              "      <td>800</td>\n",
              "      <td>273950</td>\n",
              "    </tr>\n",
              "    <tr>\n",
              "      <th>3</th>\n",
              "      <td>3</td>\n",
              "      <td>755 Brawley Avenue</td>\n",
              "      <td>Brawley, CA</td>\n",
              "      <td>48</td>\n",
              "      <td>3</td>\n",
              "      <td>1.0</td>\n",
              "      <td>1082</td>\n",
              "      <td>350000</td>\n",
              "    </tr>\n",
              "    <tr>\n",
              "      <th>4</th>\n",
              "      <td>4</td>\n",
              "      <td>2207 R Carrillo Court</td>\n",
              "      <td>Calexico, CA</td>\n",
              "      <td>55</td>\n",
              "      <td>4</td>\n",
              "      <td>3.0</td>\n",
              "      <td>2547</td>\n",
              "      <td>385100</td>\n",
              "    </tr>\n",
              "  </tbody>\n",
              "</table>\n",
              "</div>\n",
              "      <button class=\"colab-df-convert\" onclick=\"convertToInteractive('df-17d1618d-523c-464d-8a53-431cf3fb25b0')\"\n",
              "              title=\"Convert this dataframe to an interactive table.\"\n",
              "              style=\"display:none;\">\n",
              "        \n",
              "  <svg xmlns=\"http://www.w3.org/2000/svg\" height=\"24px\"viewBox=\"0 0 24 24\"\n",
              "       width=\"24px\">\n",
              "    <path d=\"M0 0h24v24H0V0z\" fill=\"none\"/>\n",
              "    <path d=\"M18.56 5.44l.94 2.06.94-2.06 2.06-.94-2.06-.94-.94-2.06-.94 2.06-2.06.94zm-11 1L8.5 8.5l.94-2.06 2.06-.94-2.06-.94L8.5 2.5l-.94 2.06-2.06.94zm10 10l.94 2.06.94-2.06 2.06-.94-2.06-.94-.94-2.06-.94 2.06-2.06.94z\"/><path d=\"M17.41 7.96l-1.37-1.37c-.4-.4-.92-.59-1.43-.59-.52 0-1.04.2-1.43.59L10.3 9.45l-7.72 7.72c-.78.78-.78 2.05 0 2.83L4 21.41c.39.39.9.59 1.41.59.51 0 1.02-.2 1.41-.59l7.78-7.78 2.81-2.81c.8-.78.8-2.07 0-2.86zM5.41 20L4 18.59l7.72-7.72 1.47 1.35L5.41 20z\"/>\n",
              "  </svg>\n",
              "      </button>\n",
              "      \n",
              "  <style>\n",
              "    .colab-df-container {\n",
              "      display:flex;\n",
              "      flex-wrap:wrap;\n",
              "      gap: 12px;\n",
              "    }\n",
              "\n",
              "    .colab-df-convert {\n",
              "      background-color: #E8F0FE;\n",
              "      border: none;\n",
              "      border-radius: 50%;\n",
              "      cursor: pointer;\n",
              "      display: none;\n",
              "      fill: #1967D2;\n",
              "      height: 32px;\n",
              "      padding: 0 0 0 0;\n",
              "      width: 32px;\n",
              "    }\n",
              "\n",
              "    .colab-df-convert:hover {\n",
              "      background-color: #E2EBFA;\n",
              "      box-shadow: 0px 1px 2px rgba(60, 64, 67, 0.3), 0px 1px 3px 1px rgba(60, 64, 67, 0.15);\n",
              "      fill: #174EA6;\n",
              "    }\n",
              "\n",
              "    [theme=dark] .colab-df-convert {\n",
              "      background-color: #3B4455;\n",
              "      fill: #D2E3FC;\n",
              "    }\n",
              "\n",
              "    [theme=dark] .colab-df-convert:hover {\n",
              "      background-color: #434B5C;\n",
              "      box-shadow: 0px 1px 3px 1px rgba(0, 0, 0, 0.15);\n",
              "      filter: drop-shadow(0px 1px 2px rgba(0, 0, 0, 0.3));\n",
              "      fill: #FFFFFF;\n",
              "    }\n",
              "  </style>\n",
              "\n",
              "      <script>\n",
              "        const buttonEl =\n",
              "          document.querySelector('#df-17d1618d-523c-464d-8a53-431cf3fb25b0 button.colab-df-convert');\n",
              "        buttonEl.style.display =\n",
              "          google.colab.kernel.accessAllowed ? 'block' : 'none';\n",
              "\n",
              "        async function convertToInteractive(key) {\n",
              "          const element = document.querySelector('#df-17d1618d-523c-464d-8a53-431cf3fb25b0');\n",
              "          const dataTable =\n",
              "            await google.colab.kernel.invokeFunction('convertToInteractive',\n",
              "                                                     [key], {});\n",
              "          if (!dataTable) return;\n",
              "\n",
              "          const docLinkHtml = 'Like what you see? Visit the ' +\n",
              "            '<a target=\"_blank\" href=https://colab.research.google.com/notebooks/data_table.ipynb>data table notebook</a>'\n",
              "            + ' to learn more about interactive tables.';\n",
              "          element.innerHTML = '';\n",
              "          dataTable['output_type'] = 'display_data';\n",
              "          await google.colab.output.renderOutput(dataTable, element);\n",
              "          const docLink = document.createElement('div');\n",
              "          docLink.innerHTML = docLinkHtml;\n",
              "          element.appendChild(docLink);\n",
              "        }\n",
              "      </script>\n",
              "    </div>\n",
              "  </div>\n",
              "  "
            ]
          },
          "metadata": {},
          "execution_count": 10
        }
      ],
      "source": [
        "df = pd.read_csv('socal2.csv')\n",
        "df.head()"
      ]
    },
    {
      "cell_type": "markdown",
      "source": [
        "Linear Regression on given Numerical Data"
      ],
      "metadata": {
        "id": "2_UdGYZl5y43"
      },
      "id": "2_UdGYZl5y43"
    },
    {
      "cell_type": "code",
      "source": [
        "# Iterating only on location and house value\n",
        "\n",
        "# Not considering image value\n",
        "\n",
        "# can't regress on street data, as it stored as a string\n",
        "\n",
        "df_cut = df[['n_citi', 'bed', 'bath', 'sqft', 'price']]\n",
        "\n",
        "df_cut.head()"
      ],
      "metadata": {
        "colab": {
          "base_uri": "https://localhost:8080/",
          "height": 206
        },
        "id": "ZDKrvZ2z5wVP",
        "outputId": "0ca0bcdb-3393-40d1-cd5b-94eaac1adac5"
      },
      "id": "ZDKrvZ2z5wVP",
      "execution_count": 16,
      "outputs": [
        {
          "output_type": "execute_result",
          "data": {
            "text/plain": [
              "   n_citi  bed  bath  sqft   price\n",
              "0     317    3   2.0  1560  201900\n",
              "1      48    3   2.0   713  228500\n",
              "2     152    3   1.0   800  273950\n",
              "3      48    3   1.0  1082  350000\n",
              "4      55    4   3.0  2547  385100"
            ],
            "text/html": [
              "\n",
              "  <div id=\"df-8ac917fc-d22a-4528-9f60-f4d5531ac394\">\n",
              "    <div class=\"colab-df-container\">\n",
              "      <div>\n",
              "<style scoped>\n",
              "    .dataframe tbody tr th:only-of-type {\n",
              "        vertical-align: middle;\n",
              "    }\n",
              "\n",
              "    .dataframe tbody tr th {\n",
              "        vertical-align: top;\n",
              "    }\n",
              "\n",
              "    .dataframe thead th {\n",
              "        text-align: right;\n",
              "    }\n",
              "</style>\n",
              "<table border=\"1\" class=\"dataframe\">\n",
              "  <thead>\n",
              "    <tr style=\"text-align: right;\">\n",
              "      <th></th>\n",
              "      <th>n_citi</th>\n",
              "      <th>bed</th>\n",
              "      <th>bath</th>\n",
              "      <th>sqft</th>\n",
              "      <th>price</th>\n",
              "    </tr>\n",
              "  </thead>\n",
              "  <tbody>\n",
              "    <tr>\n",
              "      <th>0</th>\n",
              "      <td>317</td>\n",
              "      <td>3</td>\n",
              "      <td>2.0</td>\n",
              "      <td>1560</td>\n",
              "      <td>201900</td>\n",
              "    </tr>\n",
              "    <tr>\n",
              "      <th>1</th>\n",
              "      <td>48</td>\n",
              "      <td>3</td>\n",
              "      <td>2.0</td>\n",
              "      <td>713</td>\n",
              "      <td>228500</td>\n",
              "    </tr>\n",
              "    <tr>\n",
              "      <th>2</th>\n",
              "      <td>152</td>\n",
              "      <td>3</td>\n",
              "      <td>1.0</td>\n",
              "      <td>800</td>\n",
              "      <td>273950</td>\n",
              "    </tr>\n",
              "    <tr>\n",
              "      <th>3</th>\n",
              "      <td>48</td>\n",
              "      <td>3</td>\n",
              "      <td>1.0</td>\n",
              "      <td>1082</td>\n",
              "      <td>350000</td>\n",
              "    </tr>\n",
              "    <tr>\n",
              "      <th>4</th>\n",
              "      <td>55</td>\n",
              "      <td>4</td>\n",
              "      <td>3.0</td>\n",
              "      <td>2547</td>\n",
              "      <td>385100</td>\n",
              "    </tr>\n",
              "  </tbody>\n",
              "</table>\n",
              "</div>\n",
              "      <button class=\"colab-df-convert\" onclick=\"convertToInteractive('df-8ac917fc-d22a-4528-9f60-f4d5531ac394')\"\n",
              "              title=\"Convert this dataframe to an interactive table.\"\n",
              "              style=\"display:none;\">\n",
              "        \n",
              "  <svg xmlns=\"http://www.w3.org/2000/svg\" height=\"24px\"viewBox=\"0 0 24 24\"\n",
              "       width=\"24px\">\n",
              "    <path d=\"M0 0h24v24H0V0z\" fill=\"none\"/>\n",
              "    <path d=\"M18.56 5.44l.94 2.06.94-2.06 2.06-.94-2.06-.94-.94-2.06-.94 2.06-2.06.94zm-11 1L8.5 8.5l.94-2.06 2.06-.94-2.06-.94L8.5 2.5l-.94 2.06-2.06.94zm10 10l.94 2.06.94-2.06 2.06-.94-2.06-.94-.94-2.06-.94 2.06-2.06.94z\"/><path d=\"M17.41 7.96l-1.37-1.37c-.4-.4-.92-.59-1.43-.59-.52 0-1.04.2-1.43.59L10.3 9.45l-7.72 7.72c-.78.78-.78 2.05 0 2.83L4 21.41c.39.39.9.59 1.41.59.51 0 1.02-.2 1.41-.59l7.78-7.78 2.81-2.81c.8-.78.8-2.07 0-2.86zM5.41 20L4 18.59l7.72-7.72 1.47 1.35L5.41 20z\"/>\n",
              "  </svg>\n",
              "      </button>\n",
              "      \n",
              "  <style>\n",
              "    .colab-df-container {\n",
              "      display:flex;\n",
              "      flex-wrap:wrap;\n",
              "      gap: 12px;\n",
              "    }\n",
              "\n",
              "    .colab-df-convert {\n",
              "      background-color: #E8F0FE;\n",
              "      border: none;\n",
              "      border-radius: 50%;\n",
              "      cursor: pointer;\n",
              "      display: none;\n",
              "      fill: #1967D2;\n",
              "      height: 32px;\n",
              "      padding: 0 0 0 0;\n",
              "      width: 32px;\n",
              "    }\n",
              "\n",
              "    .colab-df-convert:hover {\n",
              "      background-color: #E2EBFA;\n",
              "      box-shadow: 0px 1px 2px rgba(60, 64, 67, 0.3), 0px 1px 3px 1px rgba(60, 64, 67, 0.15);\n",
              "      fill: #174EA6;\n",
              "    }\n",
              "\n",
              "    [theme=dark] .colab-df-convert {\n",
              "      background-color: #3B4455;\n",
              "      fill: #D2E3FC;\n",
              "    }\n",
              "\n",
              "    [theme=dark] .colab-df-convert:hover {\n",
              "      background-color: #434B5C;\n",
              "      box-shadow: 0px 1px 3px 1px rgba(0, 0, 0, 0.15);\n",
              "      filter: drop-shadow(0px 1px 2px rgba(0, 0, 0, 0.3));\n",
              "      fill: #FFFFFF;\n",
              "    }\n",
              "  </style>\n",
              "\n",
              "      <script>\n",
              "        const buttonEl =\n",
              "          document.querySelector('#df-8ac917fc-d22a-4528-9f60-f4d5531ac394 button.colab-df-convert');\n",
              "        buttonEl.style.display =\n",
              "          google.colab.kernel.accessAllowed ? 'block' : 'none';\n",
              "\n",
              "        async function convertToInteractive(key) {\n",
              "          const element = document.querySelector('#df-8ac917fc-d22a-4528-9f60-f4d5531ac394');\n",
              "          const dataTable =\n",
              "            await google.colab.kernel.invokeFunction('convertToInteractive',\n",
              "                                                     [key], {});\n",
              "          if (!dataTable) return;\n",
              "\n",
              "          const docLinkHtml = 'Like what you see? Visit the ' +\n",
              "            '<a target=\"_blank\" href=https://colab.research.google.com/notebooks/data_table.ipynb>data table notebook</a>'\n",
              "            + ' to learn more about interactive tables.';\n",
              "          element.innerHTML = '';\n",
              "          dataTable['output_type'] = 'display_data';\n",
              "          await google.colab.output.renderOutput(dataTable, element);\n",
              "          const docLink = document.createElement('div');\n",
              "          docLink.innerHTML = docLinkHtml;\n",
              "          element.appendChild(docLink);\n",
              "        }\n",
              "      </script>\n",
              "    </div>\n",
              "  </div>\n",
              "  "
            ]
          },
          "metadata": {},
          "execution_count": 16
        }
      ]
    },
    {
      "cell_type": "code",
      "execution_count": 17,
      "id": "f7939608",
      "metadata": {
        "colab": {
          "base_uri": "https://localhost:8080/",
          "height": 482
        },
        "id": "f7939608",
        "outputId": "a188ab11-13e5-412c-8ead-e4dab64a5ca1"
      },
      "outputs": [
        {
          "output_type": "execute_result",
          "data": {
            "text/plain": [
              "<Axes: xlabel='sqft', ylabel='price'>"
            ]
          },
          "metadata": {},
          "execution_count": 17
        },
        {
          "output_type": "display_data",
          "data": {
            "text/plain": [
              "<Figure size 640x480 with 1 Axes>"
            ],
            "image/png": "[encoded data removed]"
          },
          "metadata": {}
        }
      ],
      "source": [
        "sns.scatterplot(x='sqft',\n",
        "                y='price', data=df_cut)"
      ]
    },
    {
      "cell_type": "code",
      "execution_count": 40,
      "id": "629144e8",
      "metadata": {
        "id": "629144e8"
      },
      "outputs": [],
      "source": [
        "X = df_cut.drop(\"price\", axis=1)\n",
        "y = df_cut['price']\n",
        "\n",
        "X_train, X_test, y_train, y_test = train_test_split(\n",
        "    X, y, test_size=0.3, random_state=101)"
      ]
    },
    {
      "cell_type": "code",
      "execution_count": 41,
      "id": "d31a9c31",
      "metadata": {
        "colab": {
          "base_uri": "https://localhost:8080/",
          "height": 423
        },
        "id": "d31a9c31",
        "outputId": "e70dbf2a-983c-4583-e68e-9c55a9723fc3"
      },
      "outputs": [
        {
          "output_type": "execute_result",
          "data": {
            "text/plain": [
              "       n_citi  bed  bath  sqft\n",
              "319        24    4   2.1  3221\n",
              "6466      265    2   2.0  2156\n",
              "13288     320    2   2.0  1016\n",
              "7335      175    3   3.1  2800\n",
              "15050      59    3   2.0  1495\n",
              "...       ...  ...   ...   ...\n",
              "10321     117    4   2.1  3031\n",
              "7052      310    5   4.1  4253\n",
              "15009     253    3   2.0  1248\n",
              "11433      46    3   2.0  2066\n",
              "8598      318    2   1.0   756\n",
              "\n",
              "[4643 rows x 4 columns]"
            ],
            "text/html": [
              "\n",
              "  <div id=\"df-10f37a13-77c0-4604-99e3-c7db4b0699a7\">\n",
              "    <div class=\"colab-df-container\">\n",
              "      <div>\n",
              "<style scoped>\n",
              "    .dataframe tbody tr th:only-of-type {\n",
              "        vertical-align: middle;\n",
              "    }\n",
              "\n",
              "    .dataframe tbody tr th {\n",
              "        vertical-align: top;\n",
              "    }\n",
              "\n",
              "    .dataframe thead th {\n",
              "        text-align: right;\n",
              "    }\n",
              "</style>\n",
              "<table border=\"1\" class=\"dataframe\">\n",
              "  <thead>\n",
              "    <tr style=\"text-align: right;\">\n",
              "      <th></th>\n",
              "      <th>n_citi</th>\n",
              "      <th>bed</th>\n",
              "      <th>bath</th>\n",
              "      <th>sqft</th>\n",
              "    </tr>\n",
              "  </thead>\n",
              "  <tbody>\n",
              "    <tr>\n",
              "      <th>319</th>\n",
              "      <td>24</td>\n",
              "      <td>4</td>\n",
              "      <td>2.1</td>\n",
              "      <td>3221</td>\n",
              "    </tr>\n",
              "    <tr>\n",
              "      <th>6466</th>\n",
              "      <td>265</td>\n",
              "      <td>2</td>\n",
              "      <td>2.0</td>\n",
              "      <td>2156</td>\n",
              "    </tr>\n",
              "    <tr>\n",
              "      <th>13288</th>\n",
              "      <td>320</td>\n",
              "      <td>2</td>\n",
              "      <td>2.0</td>\n",
              "      <td>1016</td>\n",
              "    </tr>\n",
              "    <tr>\n",
              "      <th>7335</th>\n",
              "      <td>175</td>\n",
              "      <td>3</td>\n",
              "      <td>3.1</td>\n",
              "      <td>2800</td>\n",
              "    </tr>\n",
              "    <tr>\n",
              "      <th>15050</th>\n",
              "      <td>59</td>\n",
              "      <td>3</td>\n",
              "      <td>2.0</td>\n",
              "      <td>1495</td>\n",
              "    </tr>\n",
              "    <tr>\n",
              "      <th>...</th>\n",
              "      <td>...</td>\n",
              "      <td>...</td>\n",
              "      <td>...</td>\n",
              "      <td>...</td>\n",
              "    </tr>\n",
              "    <tr>\n",
              "      <th>10321</th>\n",
              "      <td>117</td>\n",
              "      <td>4</td>\n",
              "      <td>2.1</td>\n",
              "      <td>3031</td>\n",
              "    </tr>\n",
              "    <tr>\n",
              "      <th>7052</th>\n",
              "      <td>310</td>\n",
              "      <td>5</td>\n",
              "      <td>4.1</td>\n",
              "      <td>4253</td>\n",
              "    </tr>\n",
              "    <tr>\n",
              "      <th>15009</th>\n",
              "      <td>253</td>\n",
              "      <td>3</td>\n",
              "      <td>2.0</td>\n",
              "      <td>1248</td>\n",
              "    </tr>\n",
              "    <tr>\n",
              "      <th>11433</th>\n",
              "      <td>46</td>\n",
              "      <td>3</td>\n",
              "      <td>2.0</td>\n",
              "      <td>2066</td>\n",
              "    </tr>\n",
              "    <tr>\n",
              "      <th>8598</th>\n",
              "      <td>318</td>\n",
              "      <td>2</td>\n",
              "      <td>1.0</td>\n",
              "      <td>756</td>\n",
              "    </tr>\n",
              "  </tbody>\n",
              "</table>\n",
              "<p>4643 rows × 4 columns</p>\n",
              "</div>\n",
              "      <button class=\"colab-df-convert\" onclick=\"convertToInteractive('df-10f37a13-77c0-4604-99e3-c7db4b0699a7')\"\n",
              "              title=\"Convert this dataframe to an interactive table.\"\n",
              "              style=\"display:none;\">\n",
              "        \n",
              "  <svg xmlns=\"http://www.w3.org/2000/svg\" height=\"24px\"viewBox=\"0 0 24 24\"\n",
              "       width=\"24px\">\n",
              "    <path d=\"M0 0h24v24H0V0z\" fill=\"none\"/>\n",
              "    <path d=\"M18.56 5.44l.94 2.06.94-2.06 2.06-.94-2.06-.94-.94-2.06-.94 2.06-2.06.94zm-11 1L8.5 8.5l.94-2.06 2.06-.94-2.06-.94L8.5 2.5l-.94 2.06-2.06.94zm10 10l.94 2.06.94-2.06 2.06-.94-2.06-.94-.94-2.06-.94 2.06-2.06.94z\"/><path d=\"M17.41 7.96l-1.37-1.37c-.4-.4-.92-.59-1.43-.59-.52 0-1.04.2-1.43.59L10.3 9.45l-7.72 7.72c-.78.78-.78 2.05 0 2.83L4 21.41c.39.39.9.59 1.41.59.51 0 1.02-.2 1.41-.59l7.78-7.78 2.81-2.81c.8-.78.8-2.07 0-2.86zM5.41 20L4 18.59l7.72-7.72 1.47 1.35L5.41 20z\"/>\n",
              "  </svg>\n",
              "      </button>\n",
              "      \n",
              "  <style>\n",
              "    .colab-df-container {\n",
              "      display:flex;\n",
              "      flex-wrap:wrap;\n",
              "      gap: 12px;\n",
              "    }\n",
              "\n",
              "    .colab-df-convert {\n",
              "      background-color: #E8F0FE;\n",
              "      border: none;\n",
              "      border-radius: 50%;\n",
              "      cursor: pointer;\n",
              "      display: none;\n",
              "      fill: #1967D2;\n",
              "      height: 32px;\n",
              "      padding: 0 0 0 0;\n",
              "      width: 32px;\n",
              "    }\n",
              "\n",
              "    .colab-df-convert:hover {\n",
              "      background-color: #E2EBFA;\n",
              "      box-shadow: 0px 1px 2px rgba(60, 64, 67, 0.3), 0px 1px 3px 1px rgba(60, 64, 67, 0.15);\n",
              "      fill: #174EA6;\n",
              "    }\n",
              "\n",
              "    [theme=dark] .colab-df-convert {\n",
              "      background-color: #3B4455;\n",
              "      fill: #D2E3FC;\n",
              "    }\n",
              "\n",
              "    [theme=dark] .colab-df-convert:hover {\n",
              "      background-color: #434B5C;\n",
              "      box-shadow: 0px 1px 3px 1px rgba(0, 0, 0, 0.15);\n",
              "      filter: drop-shadow(0px 1px 2px rgba(0, 0, 0, 0.3));\n",
              "      fill: #FFFFFF;\n",
              "    }\n",
              "  </style>\n",
              "\n",
              "      <script>\n",
              "        const buttonEl =\n",
              "          document.querySelector('#df-10f37a13-77c0-4604-99e3-c7db4b0699a7 button.colab-df-convert');\n",
              "        buttonEl.style.display =\n",
              "          google.colab.kernel.accessAllowed ? 'block' : 'none';\n",
              "\n",
              "        async function convertToInteractive(key) {\n",
              "          const element = document.querySelector('#df-10f37a13-77c0-4604-99e3-c7db4b0699a7');\n",
              "          const dataTable =\n",
              "            await google.colab.kernel.invokeFunction('convertToInteractive',\n",
              "                                                     [key], {});\n",
              "          if (!dataTable) return;\n",
              "\n",
              "          const docLinkHtml = 'Like what you see? Visit the ' +\n",
              "            '<a target=\"_blank\" href=https://colab.research.google.com/notebooks/data_table.ipynb>data table notebook</a>'\n",
              "            + ' to learn more about interactive tables.';\n",
              "          element.innerHTML = '';\n",
              "          dataTable['output_type'] = 'display_data';\n",
              "          await google.colab.output.renderOutput(dataTable, element);\n",
              "          const docLink = document.createElement('div');\n",
              "          docLink.innerHTML = docLinkHtml;\n",
              "          element.appendChild(docLink);\n",
              "        }\n",
              "      </script>\n",
              "    </div>\n",
              "  </div>\n",
              "  "
            ]
          },
          "metadata": {},
          "execution_count": 41
        }
      ],
      "source": [
        "model = LinearRegression()\n",
        "model.fit(X_train,y_train)\n",
        "predictions = model.predict(X_test)\n",
        "X_test"
      ]
    },
    {
      "cell_type": "code",
      "execution_count": 42,
      "id": "29bb5040",
      "metadata": {
        "colab": {
          "base_uri": "https://localhost:8080/"
        },
        "id": "29bb5040",
        "outputId": "dcc35e29-5a43-4a53-c919-3107bea8a8c8"
      },
      "outputs": [
        {
          "output_type": "stream",
          "name": "stdout",
          "text": [
            "mean_squared_error :  92360631357.8596\n",
            "mean_absolute_error :  0.39580885435161683\n"
          ]
        }
      ],
      "source": [
        "# model evaluation\n",
        "print(\n",
        "  'mean_squared_error : ', metrics.mean_squared_error(y_test, predictions))\n",
        "print(\n",
        "  'percentage mean error : ', metrics.mean_absolute_percentage_error(y_test, predictions))"
      ]
    },
    {
      "cell_type": "markdown",
      "source": [
        "Converting Addresses to Latitude and Longitute Values"
      ],
      "metadata": {
        "id": "m4JAT6256KQT"
      },
      "id": "m4JAT6256KQT"
    },
    {
      "cell_type": "code",
      "execution_count": 23,
      "id": "ef81a33b",
      "metadata": {
        "id": "ef81a33b"
      },
      "outputs": [],
      "source": [
        "import geopy"
      ]
    },
    {
      "cell_type": "code",
      "execution_count": 24,
      "id": "e0c560e7",
      "metadata": {
        "id": "e0c560e7"
      },
      "outputs": [],
      "source": [
        "from geopy.extra.rate_limiter import RateLimiter\n",
        "\n",
        "locator = geopy.geocoders.Nominatim(user_agent='myGeocoder')\n",
        "\n",
        "# need to delay calls to Nominatim by approximately 1 second\n",
        "# else, call withr will get rejected\n",
        "geocode = RateLimiter(locator.geocode, min_delay_seconds=1)\n",
        "\n",
        "address = df['street'] + [', ']*15474 + df['citi']\n",
        "df_add = df[['bed', 'bath', 'sqft', 'price']]"
      ]
    },
    {
      "cell_type": "markdown",
      "source": [
        "Nominatim Conversion from String to Point"
      ],
      "metadata": {
        "id": "0lVOsBA569iR"
      },
      "id": "0lVOsBA569iR"
    },
    {
      "cell_type": "code",
      "source": [
        "# this takes a while, so only run once. store the results as lat_long.csv\n",
        "\n",
        "# size = len(df)\n",
        "\n",
        "# lats = [None]*size\n",
        "# longs = [None]*size\n",
        "\n",
        "# for i in np.arange(size):\n",
        "#     location = geocode(address[i])\n",
        "#     if (location):\n",
        "#         [lats[i], longs[i]] = [location.latitude, location.longitude]\n",
        "#     else:\n",
        "#         [lats[i], longs[i]] = [None, None]\n",
        "    \n",
        "# dfsize = df.head(size).copy()\n",
        "# dfsize['lat'] = lats\n",
        "# dfsize['long'] = longs\n",
        "# dfsize = dfsize[dfsize['lat'] == dfsize['lat']][['bed', 'bath', 'sqft', 'price', 'lat', 'long']]\n",
        "# dfsize\n",
        "\n",
        "# dfsize.to_csv(\"lat_long.csv\")"
      ],
      "metadata": {
        "id": "Au1XBCtJ6eJc"
      },
      "id": "Au1XBCtJ6eJc",
      "execution_count": null,
      "outputs": []
    },
    {
      "cell_type": "markdown",
      "source": [
        "Training and Testing Address Regression"
      ],
      "metadata": {
        "id": "-lJv07HN73Sa"
      },
      "id": "-lJv07HN73Sa"
    },
    {
      "cell_type": "code",
      "source": [
        "dfsize = pd.read_csv('lat_long.csv', index_col=[0])\n",
        "dfsize.head()"
      ],
      "metadata": {
        "colab": {
          "base_uri": "https://localhost:8080/",
          "height": 206
        },
        "id": "SzWAZOe36v5Y",
        "outputId": "282938d1-0412-4069-9f8a-6cde20c08eb2"
      },
      "id": "SzWAZOe36v5Y",
      "execution_count": 33,
      "outputs": [
        {
          "output_type": "execute_result",
          "data": {
            "text/plain": [
              "   bed  bath  sqft   price        lat        long\n",
              "2    3   1.0   800  273950  32.819845 -115.561435\n",
              "3    3   1.0  1082  350000  32.971534 -115.543296\n",
              "4    4   3.0  2547  385100  32.691976 -115.480170\n",
              "5    3   1.0  1082  350000  32.971534 -115.543296\n",
              "6    4   3.0  2769  415000  32.681839 -115.482385"
            ],
            "text/html": [
              "\n",
              "  <div id=\"df-c128fdae-02f0-4118-b28b-a49771577d52\">\n",
              "    <div class=\"colab-df-container\">\n",
              "      <div>\n",
              "<style scoped>\n",
              "    .dataframe tbody tr th:only-of-type {\n",
              "        vertical-align: middle;\n",
              "    }\n",
              "\n",
              "    .dataframe tbody tr th {\n",
              "        vertical-align: top;\n",
              "    }\n",
              "\n",
              "    .dataframe thead th {\n",
              "        text-align: right;\n",
              "    }\n",
              "</style>\n",
              "<table border=\"1\" class=\"dataframe\">\n",
              "  <thead>\n",
              "    <tr style=\"text-align: right;\">\n",
              "      <th></th>\n",
              "      <th>bed</th>\n",
              "      <th>bath</th>\n",
              "      <th>sqft</th>\n",
              "      <th>price</th>\n",
              "      <th>lat</th>\n",
              "      <th>long</th>\n",
              "    </tr>\n",
              "  </thead>\n",
              "  <tbody>\n",
              "    <tr>\n",
              "      <th>2</th>\n",
              "      <td>3</td>\n",
              "      <td>1.0</td>\n",
              "      <td>800</td>\n",
              "      <td>273950</td>\n",
              "      <td>32.819845</td>\n",
              "      <td>-115.561435</td>\n",
              "    </tr>\n",
              "    <tr>\n",
              "      <th>3</th>\n",
              "      <td>3</td>\n",
              "      <td>1.0</td>\n",
              "      <td>1082</td>\n",
              "      <td>350000</td>\n",
              "      <td>32.971534</td>\n",
              "      <td>-115.543296</td>\n",
              "    </tr>\n",
              "    <tr>\n",
              "      <th>4</th>\n",
              "      <td>4</td>\n",
              "      <td>3.0</td>\n",
              "      <td>2547</td>\n",
              "      <td>385100</td>\n",
              "      <td>32.691976</td>\n",
              "      <td>-115.480170</td>\n",
              "    </tr>\n",
              "    <tr>\n",
              "      <th>5</th>\n",
              "      <td>3</td>\n",
              "      <td>1.0</td>\n",
              "      <td>1082</td>\n",
              "      <td>350000</td>\n",
              "      <td>32.971534</td>\n",
              "      <td>-115.543296</td>\n",
              "    </tr>\n",
              "    <tr>\n",
              "      <th>6</th>\n",
              "      <td>4</td>\n",
              "      <td>3.0</td>\n",
              "      <td>2769</td>\n",
              "      <td>415000</td>\n",
              "      <td>32.681839</td>\n",
              "      <td>-115.482385</td>\n",
              "    </tr>\n",
              "  </tbody>\n",
              "</table>\n",
              "</div>\n",
              "      <button class=\"colab-df-convert\" onclick=\"convertToInteractive('df-c128fdae-02f0-4118-b28b-a49771577d52')\"\n",
              "              title=\"Convert this dataframe to an interactive table.\"\n",
              "              style=\"display:none;\">\n",
              "        \n",
              "  <svg xmlns=\"http://www.w3.org/2000/svg\" height=\"24px\"viewBox=\"0 0 24 24\"\n",
              "       width=\"24px\">\n",
              "    <path d=\"M0 0h24v24H0V0z\" fill=\"none\"/>\n",
              "    <path d=\"M18.56 5.44l.94 2.06.94-2.06 2.06-.94-2.06-.94-.94-2.06-.94 2.06-2.06.94zm-11 1L8.5 8.5l.94-2.06 2.06-.94-2.06-.94L8.5 2.5l-.94 2.06-2.06.94zm10 10l.94 2.06.94-2.06 2.06-.94-2.06-.94-.94-2.06-.94 2.06-2.06.94z\"/><path d=\"M17.41 7.96l-1.37-1.37c-.4-.4-.92-.59-1.43-.59-.52 0-1.04.2-1.43.59L10.3 9.45l-7.72 7.72c-.78.78-.78 2.05 0 2.83L4 21.41c.39.39.9.59 1.41.59.51 0 1.02-.2 1.41-.59l7.78-7.78 2.81-2.81c.8-.78.8-2.07 0-2.86zM5.41 20L4 18.59l7.72-7.72 1.47 1.35L5.41 20z\"/>\n",
              "  </svg>\n",
              "      </button>\n",
              "      \n",
              "  <style>\n",
              "    .colab-df-container {\n",
              "      display:flex;\n",
              "      flex-wrap:wrap;\n",
              "      gap: 12px;\n",
              "    }\n",
              "\n",
              "    .colab-df-convert {\n",
              "      background-color: #E8F0FE;\n",
              "      border: none;\n",
              "      border-radius: 50%;\n",
              "      cursor: pointer;\n",
              "      display: none;\n",
              "      fill: #1967D2;\n",
              "      height: 32px;\n",
              "      padding: 0 0 0 0;\n",
              "      width: 32px;\n",
              "    }\n",
              "\n",
              "    .colab-df-convert:hover {\n",
              "      background-color: #E2EBFA;\n",
              "      box-shadow: 0px 1px 2px rgba(60, 64, 67, 0.3), 0px 1px 3px 1px rgba(60, 64, 67, 0.15);\n",
              "      fill: #174EA6;\n",
              "    }\n",
              "\n",
              "    [theme=dark] .colab-df-convert {\n",
              "      background-color: #3B4455;\n",
              "      fill: #D2E3FC;\n",
              "    }\n",
              "\n",
              "    [theme=dark] .colab-df-convert:hover {\n",
              "      background-color: #434B5C;\n",
              "      box-shadow: 0px 1px 3px 1px rgba(0, 0, 0, 0.15);\n",
              "      filter: drop-shadow(0px 1px 2px rgba(0, 0, 0, 0.3));\n",
              "      fill: #FFFFFF;\n",
              "    }\n",
              "  </style>\n",
              "\n",
              "      <script>\n",
              "        const buttonEl =\n",
              "          document.querySelector('#df-c128fdae-02f0-4118-b28b-a49771577d52 button.colab-df-convert');\n",
              "        buttonEl.style.display =\n",
              "          google.colab.kernel.accessAllowed ? 'block' : 'none';\n",
              "\n",
              "        async function convertToInteractive(key) {\n",
              "          const element = document.querySelector('#df-c128fdae-02f0-4118-b28b-a49771577d52');\n",
              "          const dataTable =\n",
              "            await google.colab.kernel.invokeFunction('convertToInteractive',\n",
              "                                                     [key], {});\n",
              "          if (!dataTable) return;\n",
              "\n",
              "          const docLinkHtml = 'Like what you see? Visit the ' +\n",
              "            '<a target=\"_blank\" href=https://colab.research.google.com/notebooks/data_table.ipynb>data table notebook</a>'\n",
              "            + ' to learn more about interactive tables.';\n",
              "          element.innerHTML = '';\n",
              "          dataTable['output_type'] = 'display_data';\n",
              "          await google.colab.output.renderOutput(dataTable, element);\n",
              "          const docLink = document.createElement('div');\n",
              "          docLink.innerHTML = docLinkHtml;\n",
              "          element.appendChild(docLink);\n",
              "        }\n",
              "      </script>\n",
              "    </div>\n",
              "  </div>\n",
              "  "
            ]
          },
          "metadata": {},
          "execution_count": 33
        }
      ]
    },
    {
      "cell_type": "code",
      "execution_count": 34,
      "id": "d9652044",
      "metadata": {
        "scrolled": true,
        "colab": {
          "base_uri": "https://localhost:8080/",
          "height": 482
        },
        "id": "d9652044",
        "outputId": "baaae6fa-83fc-4445-f49c-3a0b85cab2ac"
      },
      "outputs": [
        {
          "output_type": "execute_result",
          "data": {
            "text/plain": [
              "<Axes: xlabel='lat', ylabel='price'>"
            ]
          },
          "metadata": {},
          "execution_count": 34
        },
        {
          "output_type": "display_data",
          "data": {
            "text/plain": [
              "<Figure size 640x480 with 1 Axes>"
            ],
            "image/png": "[encoded data removed]"
          },
          "metadata": {}
        }
      ],
      "source": [
        "sns.scatterplot(x='lat',\n",
        "                y='price', data=dfsize)"
      ]
    },
    {
      "cell_type": "code",
      "execution_count": 35,
      "id": "d3fa2f98",
      "metadata": {
        "id": "d3fa2f98"
      },
      "outputs": [],
      "source": [
        "X = dfsize.drop(\"price\", axis=1)\n",
        "y = dfsize['price']\n",
        "\n",
        "X_train, X_test, y_train, y_test = train_test_split(\n",
        "    X, y, test_size=0.3, random_state=101)"
      ]
    },
    {
      "cell_type": "code",
      "execution_count": 38,
      "id": "222229c8",
      "metadata": {
        "scrolled": true,
        "colab": {
          "base_uri": "https://localhost:8080/"
        },
        "id": "222229c8",
        "outputId": "38d9456c-a585-4c84-d38e-3eb5793a1b5f"
      },
      "outputs": [
        {
          "output_type": "stream",
          "name": "stdout",
          "text": [
            "mean_squared_error :  94866276874.99113\n",
            "mean_absolute_error :  0.3763862577882539\n"
          ]
        }
      ],
      "source": [
        "model = LinearRegression()\n",
        "model.fit(X_train,y_train)\n",
        "predictions = model.predict(X_test)\n",
        "\n",
        "# model evaluation\n",
        "print(\n",
        "  'mean_squared_error : ', metrics.mean_squared_error(y_test, predictions))\n",
        "print(\n",
        "  'percentage mean error : ', metrics.mean_absolute_percentage_error(y_test, predictions))\n",
        "\n",
        "# A small improvement. However, the fraction of data lost due to Nominatim\n",
        "# not containing the addresses (23%), as well as the amount of time it takes\n",
        "# Nominatim to run on a large dataset, makes this approach not scaleable, or\n",
        "# particularly effective, since it just won't work on certain addresses. "
      ]
    }
  ],
  "metadata": {
    "kernelspec": {
      "display_name": "Python 3",
      "language": "python",
      "name": "python3"
    },
    "language_info": {
      "codemirror_mode": {
        "name": "ipython",
        "version": 3
      },
      "file_extension": ".py",
      "mimetype": "text/x-python",
      "name": "python",
      "nbconvert_exporter": "python",
      "pygments_lexer": "ipython3",
      "version": "3.8.8"
    },
    "colab": {
      "provenance": [],
      "include_colab_link": true
    }
  },
  "nbformat": 4,
  "nbformat_minor": 5
}